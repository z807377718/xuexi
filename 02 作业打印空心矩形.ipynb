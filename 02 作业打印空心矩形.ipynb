{
 "cells": [
  {
   "cell_type": "code",
   "execution_count": 2,
   "metadata": {},
   "outputs": [
    {
     "name": "stdout",
     "output_type": "stream",
     "text": [
      "请输入行数2\n",
      " * * \n",
      " * * \n"
     ]
    }
   ],
   "source": [
    "row = input(\"请输入行数\")\n",
    "row = int(row)\n",
    "for i in range(row):\n",
    "    if (i == 0) or (i ==row-1):\n",
    "        print(' *'*(row),end=\" \")\n",
    "    else:\n",
    "        print(' *'+'  '*(row-2)+' *', end='')\n",
    "    print()"
   ]
  },
  {
   "cell_type": "code",
   "execution_count": 4,
   "metadata": {
    "scrolled": true
   },
   "outputs": [
    {
     "name": "stdout",
     "output_type": "stream",
     "text": [
      "1*1=1  \n",
      "1*2=2  2*2=4  \n",
      "1*3=3  2*3=6  3*3=9  \n",
      "1*4=4  2*4=8  3*4=12  4*4=16  \n",
      "1*5=5  2*5=10  3*5=15  4*5=20  5*5=25  \n",
      "1*6=6  2*6=12  3*6=18  4*6=24  5*6=30  6*6=36  \n",
      "1*7=7  2*7=14  3*7=21  4*7=28  5*7=35  6*7=42  7*7=49  \n",
      "1*8=8  2*8=16  3*8=24  4*8=32  5*8=40  6*8=48  7*8=56  8*8=64  \n",
      "1*9=9  2*9=18  3*9=27  4*9=36  5*9=45  6*9=54  7*9=63  8*9=72  9*9=81  \n"
     ]
    }
   ],
   "source": [
    "#根据直角三角形改为九九乘法表\n",
    "for i in range(9):\n",
    "    for j in range(i+1):   \n",
    "        print(\"{}*{}={}\".format(j+1,i+1,(i+1)*(j+1)),end=\"  \") \n",
    "    print()"
   ]
  },
  {
   "cell_type": "code",
   "execution_count": 10,
   "metadata": {},
   "outputs": [
    {
     "name": "stdout",
     "output_type": "stream",
     "text": [
      "1  \n",
      "2  4  \n",
      "3  6   9  \n",
      "4  8   12  16  \n",
      "5  10  15  20  25  \n",
      "6  12  18  24  30  36  \n",
      "7  14  21  28  35  42  49  \n",
      "8  16  24  32  40  48  56  64  \n",
      "9  18  27  36  45  54  63  72  81  \n"
     ]
    }
   ],
   "source": [
    "# 定义一个函数打印乘法表\n",
    "def printline():\n",
    "    for i in range(9):\n",
    "        for j in range(i+1):   \n",
    "            if (i == 2 or i == 3) and j ==1:\n",
    "                print ((i+1)*(j+1),end=\"   \")\n",
    "            else:\n",
    "                print((i+1)*(j+1),end=\"  \")\n",
    "        print(\"\")\n",
    "    \n",
    "printline()"
   ]
  },
  {
   "cell_type": "code",
   "execution_count": 26,
   "metadata": {},
   "outputs": [
    {
     "name": "stdout",
     "output_type": "stream",
     "text": [
      "1 \n",
      "2 4 \n",
      "3 6 9 \n",
      "4 8 12 16 \n",
      "5 10 15 20 25 \n",
      "6 12 18 24 30 36 \n",
      "7 14 21 28 35 42 49 \n",
      "8 16 24 32 40 48 56 64 \n",
      "9 18 27 36 45 54 63 72 81 \n"
     ]
    }
   ],
   "source": [
    "# 简洁\n",
    "def printLine(row):\n",
    "    for col in range(1, row+1):\n",
    "        print( row * col, end=\" \")\n",
    "    print(\"\")\n",
    "for row in range(1,10):\n",
    "    printLine(row)\n",
    "\n",
    "        "
   ]
  },
  {
   "cell_type": "code",
   "execution_count": 36,
   "metadata": {},
   "outputs": [
    {
     "name": "stdout",
     "output_type": "stream",
     "text": [
      "1  \n",
      "2  4  \n",
      "3  6   9  \n",
      "4  8   12  16  \n",
      "5  10  15  20  25  \n",
      "6  12  18  24  30  36  \n",
      "7  14  21  28  35  42  49  \n",
      "8  16  24  32  40  48  56  64  \n",
      "9  18  27  36  45  54  63  72  81  \n"
     ]
    }
   ],
   "source": [
    "def printline(i):\n",
    "    for j in range(i+1):\n",
    "        if (i == 2 or i == 3) and j ==1:\n",
    "            print ((i+1)*(j+1),end=\"   \")\n",
    "        else:\n",
    "            print((i+1)*(j+1),end=\"  \")\n",
    "    print()\n",
    "    \n",
    "for i in range (9):\n",
    "    printline(i)"
   ]
  },
  {
   "cell_type": "code",
   "execution_count": 41,
   "metadata": {},
   "outputs": [
    {
     "name": "stdout",
     "output_type": "stream",
     "text": [
      "I am a good boy\n",
      "我叫ran,今年18岁,我住山东\n"
     ]
    }
   ],
   "source": [
    "def stu(name,age,addr):\n",
    "    print(\"I am a good boy\")\n",
    "    print(\"我叫{0},今年{1}岁,我住{2}\".format(name,age,addr))\n",
    "n = \"ran\"\n",
    "a = \"18\"\n",
    "ad = \"山东\"\n",
    "stu(n,a,ad) "
   ]
  },
  {
   "cell_type": "code",
   "execution_count": 45,
   "metadata": {},
   "outputs": [
    {
     "name": "stdout",
     "output_type": "stream",
     "text": [
      "I am a good boy\n",
      "我叫ran,今年18岁,我住山东\n"
     ]
    }
   ],
   "source": [
    "def stu_key(name=\"\",age=\"\",addr=\"\"):\n",
    "    print(\"I am a good boy\")\n",
    "    print(\"我叫{0},今年{1}岁,我住{2}\".format(name,age,addr))\n",
    "n = \"ran\"\n",
    "a = \"18\"\n",
    "ad = \"山东\"\n",
    "stu_key(addr= ad,name = n, age = a) "
   ]
  },
  {
   "cell_type": "code",
   "execution_count": 48,
   "metadata": {},
   "outputs": [
    {
     "name": "stdout",
     "output_type": "stream",
     "text": [
      "Hello 大家好\n",
      "<class 'tuple'>\n",
      "haha\n",
      "fdj\n",
      "18\n",
      "jds\n",
      "sadj\n",
      "Hello 大家好\n",
      "<class 'tuple'>\n",
      "dsa\n",
      "ads\n"
     ]
    }
   ],
   "source": [
    "def stu(*args):\n",
    "    print(\"Hello 大家好\")\n",
    "    print(type(args))\n",
    "    for item in args:\n",
    "        print(item)\n",
    "\n",
    "\n",
    "stu(\"haha\", \"fdj\", 18, \"jds\", \"sadj\")\n",
    "stu(\"dsa\", \"ads\")"
   ]
  },
  {
   "cell_type": "code",
   "execution_count": 70,
   "metadata": {},
   "outputs": [
    {
     "name": "stdout",
     "output_type": "stream",
     "text": [
      "大家好\n",
      "我叫ran,今年18岁了\n",
      "我的爱好是游戏\n",
      "**************************************************\n",
      "HAH\n",
      "##################################################\n",
      "hobby2 --- 运动\n"
     ]
    }
   ],
   "source": [
    "# 收集参数混合调用案例\n",
    "# stu模拟一个学生的自我介绍\n",
    "def stu(name, age, *args, hobby=\"没有\", **kwargs):\n",
    "    print(\"大家好\")\n",
    "    print(\"我叫{},今年{}岁了\".format(name,age))\n",
    "    if hobby == \"没有\":\n",
    "        print(\"我没有爱好\")\n",
    "    else:\n",
    "        print(\"我的爱好是{}\".format(hobby))\n",
    "    print(\"*\"*50)\n",
    "    \n",
    "    for i in args:\n",
    "        print(i)\n",
    "    print(\"#\"*50)\n",
    "    for k,v in kwargs.items():\n",
    "        print(k,\"---\",v)\n",
    "        \n",
    "#调用函数\n",
    "\n",
    "name = \"ran\"\n",
    "age = 18\n",
    "\n",
    "stu(name, age, \"HAH\", hobby=\"游戏\", hobby2=\"运动\")"
   ]
  }
 ],
 "metadata": {
  "kernelspec": {
   "display_name": "Python 3",
   "language": "python",
   "name": "python3"
  },
  "language_info": {
   "codemirror_mode": {
    "name": "ipython",
    "version": 3
   },
   "file_extension": ".py",
   "mimetype": "text/x-python",
   "name": "python",
   "nbconvert_exporter": "python",
   "pygments_lexer": "ipython3",
   "version": "3.6.3"
  }
 },
 "nbformat": 4,
 "nbformat_minor": 2
}
